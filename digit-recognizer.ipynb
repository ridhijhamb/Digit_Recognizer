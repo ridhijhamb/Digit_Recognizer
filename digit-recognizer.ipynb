{
 "cells": [
  {
   "cell_type": "code",
   "execution_count": 1,
   "id": "d0f9094d",
   "metadata": {
    "_cell_guid": "b1076dfc-b9ad-4769-8c92-a6c4dae69d19",
    "_uuid": "8f2839f25d086af736a60e9eeb907d3b93b6e0e5",
    "execution": {
     "iopub.execute_input": "2021-07-27T08:28:01.529074Z",
     "iopub.status.busy": "2021-07-27T08:28:01.527260Z",
     "iopub.status.idle": "2021-07-27T08:28:01.542137Z",
     "shell.execute_reply": "2021-07-27T08:28:01.542826Z",
     "shell.execute_reply.started": "2021-07-27T08:23:37.436166Z"
    },
    "papermill": {
     "duration": 0.037767,
     "end_time": "2021-07-27T08:28:01.543150",
     "exception": false,
     "start_time": "2021-07-27T08:28:01.505383",
     "status": "completed"
    },
    "tags": []
   },
   "outputs": [
    {
     "name": "stdout",
     "output_type": "stream",
     "text": [
      "/kaggle/input/digit-recognizer/sample_submission.csv\n",
      "/kaggle/input/digit-recognizer/train.csv\n",
      "/kaggle/input/digit-recognizer/test.csv\n"
     ]
    }
   ],
   "source": [
    "# This Python 3 environment comes with many helpful analytics libraries installed\n",
    "# It is defined by the kaggle/python Docker image: https://github.com/kaggle/docker-python\n",
    "# For example, here's several helpful packages to load\n",
    "\n",
    "import numpy as np # linear algebra\n",
    "import pandas as pd # data processing, CSV file I/O (e.g. pd.read_csv)\n",
    "\n",
    "# Input data files are available in the read-only \"../input/\" directory\n",
    "# For example, running this (by clicking run or pressing Shift+Enter) will list all files under the input directory\n",
    "\n",
    "import os\n",
    "for dirname, _, filenames in os.walk('/kaggle/input'):\n",
    "    for filename in filenames:\n",
    "        print(os.path.join(dirname, filename))\n",
    "\n",
    "# You can write up to 20GB to the current directory (/kaggle/working/) that gets preserved as output when you create a version using \"Save & Run All\" \n",
    "# You can also write temporary files to /kaggle/temp/, but they won't be saved outside of the current session"
   ]
  },
  {
   "cell_type": "code",
   "execution_count": 2,
   "id": "d216b8ce",
   "metadata": {
    "execution": {
     "iopub.execute_input": "2021-07-27T08:28:01.575658Z",
     "iopub.status.busy": "2021-07-27T08:28:01.575042Z",
     "iopub.status.idle": "2021-07-27T08:28:06.676375Z",
     "shell.execute_reply": "2021-07-27T08:28:06.675901Z",
     "shell.execute_reply.started": "2021-07-27T08:23:39.459388Z"
    },
    "papermill": {
     "duration": 5.117792,
     "end_time": "2021-07-27T08:28:06.676506",
     "exception": false,
     "start_time": "2021-07-27T08:28:01.558714",
     "status": "completed"
    },
    "tags": []
   },
   "outputs": [],
   "source": [
    "import matplotlib.pyplot as plt\n",
    "from keras.utils import to_categorical\n",
    "from sklearn.model_selection import train_test_split\n",
    "\n",
    "from keras import models\n",
    "from keras import layers\n",
    "from keras.layers import Conv2D\n",
    "from keras.layers import MaxPooling2D\n",
    "from keras import regularizers\n"
   ]
  },
  {
   "cell_type": "markdown",
   "id": "8b375bb9",
   "metadata": {
    "papermill": {
     "duration": 0.01342,
     "end_time": "2021-07-27T08:28:06.704361",
     "exception": false,
     "start_time": "2021-07-27T08:28:06.690941",
     "status": "completed"
    },
    "tags": []
   },
   "source": [
    "# Data Loading"
   ]
  },
  {
   "cell_type": "code",
   "execution_count": 3,
   "id": "ac73cb82",
   "metadata": {
    "execution": {
     "iopub.execute_input": "2021-07-27T08:28:06.739658Z",
     "iopub.status.busy": "2021-07-27T08:28:06.738908Z",
     "iopub.status.idle": "2021-07-27T08:28:11.898183Z",
     "shell.execute_reply": "2021-07-27T08:28:11.897631Z",
     "shell.execute_reply.started": "2021-07-27T08:23:53.146804Z"
    },
    "papermill": {
     "duration": 5.178929,
     "end_time": "2021-07-27T08:28:11.898387",
     "exception": false,
     "start_time": "2021-07-27T08:28:06.719458",
     "status": "completed"
    },
    "tags": []
   },
   "outputs": [
    {
     "data": {
      "text/html": [
       "<div>\n",
       "<style scoped>\n",
       "    .dataframe tbody tr th:only-of-type {\n",
       "        vertical-align: middle;\n",
       "    }\n",
       "\n",
       "    .dataframe tbody tr th {\n",
       "        vertical-align: top;\n",
       "    }\n",
       "\n",
       "    .dataframe thead th {\n",
       "        text-align: right;\n",
       "    }\n",
       "</style>\n",
       "<table border=\"1\" class=\"dataframe\">\n",
       "  <thead>\n",
       "    <tr style=\"text-align: right;\">\n",
       "      <th></th>\n",
       "      <th>label</th>\n",
       "      <th>pixel0</th>\n",
       "      <th>pixel1</th>\n",
       "      <th>pixel2</th>\n",
       "      <th>pixel3</th>\n",
       "      <th>pixel4</th>\n",
       "      <th>pixel5</th>\n",
       "      <th>pixel6</th>\n",
       "      <th>pixel7</th>\n",
       "      <th>pixel8</th>\n",
       "      <th>...</th>\n",
       "      <th>pixel774</th>\n",
       "      <th>pixel775</th>\n",
       "      <th>pixel776</th>\n",
       "      <th>pixel777</th>\n",
       "      <th>pixel778</th>\n",
       "      <th>pixel779</th>\n",
       "      <th>pixel780</th>\n",
       "      <th>pixel781</th>\n",
       "      <th>pixel782</th>\n",
       "      <th>pixel783</th>\n",
       "    </tr>\n",
       "  </thead>\n",
       "  <tbody>\n",
       "    <tr>\n",
       "      <th>0</th>\n",
       "      <td>1</td>\n",
       "      <td>0</td>\n",
       "      <td>0</td>\n",
       "      <td>0</td>\n",
       "      <td>0</td>\n",
       "      <td>0</td>\n",
       "      <td>0</td>\n",
       "      <td>0</td>\n",
       "      <td>0</td>\n",
       "      <td>0</td>\n",
       "      <td>...</td>\n",
       "      <td>0</td>\n",
       "      <td>0</td>\n",
       "      <td>0</td>\n",
       "      <td>0</td>\n",
       "      <td>0</td>\n",
       "      <td>0</td>\n",
       "      <td>0</td>\n",
       "      <td>0</td>\n",
       "      <td>0</td>\n",
       "      <td>0</td>\n",
       "    </tr>\n",
       "    <tr>\n",
       "      <th>1</th>\n",
       "      <td>0</td>\n",
       "      <td>0</td>\n",
       "      <td>0</td>\n",
       "      <td>0</td>\n",
       "      <td>0</td>\n",
       "      <td>0</td>\n",
       "      <td>0</td>\n",
       "      <td>0</td>\n",
       "      <td>0</td>\n",
       "      <td>0</td>\n",
       "      <td>...</td>\n",
       "      <td>0</td>\n",
       "      <td>0</td>\n",
       "      <td>0</td>\n",
       "      <td>0</td>\n",
       "      <td>0</td>\n",
       "      <td>0</td>\n",
       "      <td>0</td>\n",
       "      <td>0</td>\n",
       "      <td>0</td>\n",
       "      <td>0</td>\n",
       "    </tr>\n",
       "    <tr>\n",
       "      <th>2</th>\n",
       "      <td>1</td>\n",
       "      <td>0</td>\n",
       "      <td>0</td>\n",
       "      <td>0</td>\n",
       "      <td>0</td>\n",
       "      <td>0</td>\n",
       "      <td>0</td>\n",
       "      <td>0</td>\n",
       "      <td>0</td>\n",
       "      <td>0</td>\n",
       "      <td>...</td>\n",
       "      <td>0</td>\n",
       "      <td>0</td>\n",
       "      <td>0</td>\n",
       "      <td>0</td>\n",
       "      <td>0</td>\n",
       "      <td>0</td>\n",
       "      <td>0</td>\n",
       "      <td>0</td>\n",
       "      <td>0</td>\n",
       "      <td>0</td>\n",
       "    </tr>\n",
       "    <tr>\n",
       "      <th>3</th>\n",
       "      <td>4</td>\n",
       "      <td>0</td>\n",
       "      <td>0</td>\n",
       "      <td>0</td>\n",
       "      <td>0</td>\n",
       "      <td>0</td>\n",
       "      <td>0</td>\n",
       "      <td>0</td>\n",
       "      <td>0</td>\n",
       "      <td>0</td>\n",
       "      <td>...</td>\n",
       "      <td>0</td>\n",
       "      <td>0</td>\n",
       "      <td>0</td>\n",
       "      <td>0</td>\n",
       "      <td>0</td>\n",
       "      <td>0</td>\n",
       "      <td>0</td>\n",
       "      <td>0</td>\n",
       "      <td>0</td>\n",
       "      <td>0</td>\n",
       "    </tr>\n",
       "    <tr>\n",
       "      <th>4</th>\n",
       "      <td>0</td>\n",
       "      <td>0</td>\n",
       "      <td>0</td>\n",
       "      <td>0</td>\n",
       "      <td>0</td>\n",
       "      <td>0</td>\n",
       "      <td>0</td>\n",
       "      <td>0</td>\n",
       "      <td>0</td>\n",
       "      <td>0</td>\n",
       "      <td>...</td>\n",
       "      <td>0</td>\n",
       "      <td>0</td>\n",
       "      <td>0</td>\n",
       "      <td>0</td>\n",
       "      <td>0</td>\n",
       "      <td>0</td>\n",
       "      <td>0</td>\n",
       "      <td>0</td>\n",
       "      <td>0</td>\n",
       "      <td>0</td>\n",
       "    </tr>\n",
       "  </tbody>\n",
       "</table>\n",
       "<p>5 rows × 785 columns</p>\n",
       "</div>"
      ],
      "text/plain": [
       "   label  pixel0  pixel1  pixel2  pixel3  pixel4  pixel5  pixel6  pixel7  \\\n",
       "0      1       0       0       0       0       0       0       0       0   \n",
       "1      0       0       0       0       0       0       0       0       0   \n",
       "2      1       0       0       0       0       0       0       0       0   \n",
       "3      4       0       0       0       0       0       0       0       0   \n",
       "4      0       0       0       0       0       0       0       0       0   \n",
       "\n",
       "   pixel8  ...  pixel774  pixel775  pixel776  pixel777  pixel778  pixel779  \\\n",
       "0       0  ...         0         0         0         0         0         0   \n",
       "1       0  ...         0         0         0         0         0         0   \n",
       "2       0  ...         0         0         0         0         0         0   \n",
       "3       0  ...         0         0         0         0         0         0   \n",
       "4       0  ...         0         0         0         0         0         0   \n",
       "\n",
       "   pixel780  pixel781  pixel782  pixel783  \n",
       "0         0         0         0         0  \n",
       "1         0         0         0         0  \n",
       "2         0         0         0         0  \n",
       "3         0         0         0         0  \n",
       "4         0         0         0         0  \n",
       "\n",
       "[5 rows x 785 columns]"
      ]
     },
     "execution_count": 3,
     "metadata": {},
     "output_type": "execute_result"
    }
   ],
   "source": [
    "train = pd.read_csv('../input/digit-recognizer/train.csv')\n",
    "test = pd.read_csv('../input/digit-recognizer/test.csv')\n",
    "train.head()"
   ]
  },
  {
   "cell_type": "markdown",
   "id": "124ffbc0",
   "metadata": {
    "papermill": {
     "duration": 0.013879,
     "end_time": "2021-07-27T08:28:11.926707",
     "exception": false,
     "start_time": "2021-07-27T08:28:11.912828",
     "status": "completed"
    },
    "tags": []
   },
   "source": [
    "# Data Preprocessing"
   ]
  },
  {
   "cell_type": "code",
   "execution_count": 4,
   "id": "37ce68da",
   "metadata": {
    "execution": {
     "iopub.execute_input": "2021-07-27T08:28:12.050019Z",
     "iopub.status.busy": "2021-07-27T08:28:11.964718Z",
     "iopub.status.idle": "2021-07-27T08:28:12.175485Z",
     "shell.execute_reply": "2021-07-27T08:28:12.174981Z",
     "shell.execute_reply.started": "2021-07-27T08:24:14.257154Z"
    },
    "papermill": {
     "duration": 0.234108,
     "end_time": "2021-07-27T08:28:12.175625",
     "exception": false,
     "start_time": "2021-07-27T08:28:11.941517",
     "status": "completed"
    },
    "tags": []
   },
   "outputs": [],
   "source": [
    "train_labels = train['label']\n",
    "train1 = train.drop('label', axis=1)\n",
    "\n",
    "train1 = np.asarray(train1).astype('float32')/255\n",
    "test = np.asarray(test).astype('float32')/255\n",
    "train1 = train1.reshape(train1.shape[0], 28, 28, 1)\n",
    "test = test.reshape(test.shape[0], 28, 28, 1)\n",
    "\n",
    "train_labels = to_categorical(train_labels)"
   ]
  },
  {
   "cell_type": "code",
   "execution_count": 5,
   "id": "173fca28",
   "metadata": {
    "execution": {
     "iopub.execute_input": "2021-07-27T08:28:12.222407Z",
     "iopub.status.busy": "2021-07-27T08:28:12.221757Z",
     "iopub.status.idle": "2021-07-27T08:28:12.347175Z",
     "shell.execute_reply": "2021-07-27T08:28:12.347628Z",
     "shell.execute_reply.started": "2021-07-27T08:24:16.794995Z"
    },
    "papermill": {
     "duration": 0.157837,
     "end_time": "2021-07-27T08:28:12.347801",
     "exception": false,
     "start_time": "2021-07-27T08:28:12.189964",
     "status": "completed"
    },
    "tags": []
   },
   "outputs": [
    {
     "data": {
      "image/png": "[encoded data removed]",
      "text/plain": [
       "<Figure size 432x288 with 1 Axes>"
      ]
     },
     "metadata": {
      "needs_background": "light"
     },
     "output_type": "display_data"
    }
   ],
   "source": [
    "img = train1[0]*255\n",
    "img_reshape = img.reshape(28, 28)\n",
    "plt.imshow(img_reshape)\n",
    "plt.show()"
   ]
  },
  {
   "cell_type": "code",
   "execution_count": 6,
   "id": "0efe43de",
   "metadata": {
    "execution": {
     "iopub.execute_input": "2021-07-27T08:28:12.386239Z",
     "iopub.status.busy": "2021-07-27T08:28:12.384841Z",
     "iopub.status.idle": "2021-07-27T08:28:12.388924Z",
     "shell.execute_reply": "2021-07-27T08:28:12.389381Z",
     "shell.execute_reply.started": "2021-07-27T08:24:44.253713Z"
    },
    "papermill": {
     "duration": 0.025822,
     "end_time": "2021-07-27T08:28:12.389559",
     "exception": false,
     "start_time": "2021-07-27T08:28:12.363737",
     "status": "completed"
    },
    "tags": []
   },
   "outputs": [
    {
     "name": "stdout",
     "output_type": "stream",
     "text": [
      "(42000, 28, 28, 1)\n",
      "(42000, 10)\n"
     ]
    }
   ],
   "source": [
    "print(train1.shape)\n",
    "print(train_labels.shape)"
   ]
  },
  {
   "cell_type": "code",
   "execution_count": 7,
   "id": "fec24a34",
   "metadata": {
    "execution": {
     "iopub.execute_input": "2021-07-27T08:28:12.425212Z",
     "iopub.status.busy": "2021-07-27T08:28:12.424074Z",
     "iopub.status.idle": "2021-07-27T08:28:12.737730Z",
     "shell.execute_reply": "2021-07-27T08:28:12.737174Z",
     "shell.execute_reply.started": "2021-07-27T08:24:46.823817Z"
    },
    "papermill": {
     "duration": 0.33352,
     "end_time": "2021-07-27T08:28:12.737890",
     "exception": false,
     "start_time": "2021-07-27T08:28:12.404370",
     "status": "completed"
    },
    "tags": []
   },
   "outputs": [],
   "source": [
    "X_train, X_val, y_train, y_val= train_test_split(train1, train_labels, test_size=0.2)"
   ]
  },
  {
   "cell_type": "markdown",
   "id": "a923f54b",
   "metadata": {
    "papermill": {
     "duration": 0.014526,
     "end_time": "2021-07-27T08:28:12.767164",
     "exception": false,
     "start_time": "2021-07-27T08:28:12.752638",
     "status": "completed"
    },
    "tags": []
   },
   "source": [
    "# CNN Model"
   ]
  },
  {
   "cell_type": "code",
   "execution_count": 8,
   "id": "2540690a",
   "metadata": {
    "execution": {
     "iopub.execute_input": "2021-07-27T08:28:12.809101Z",
     "iopub.status.busy": "2021-07-27T08:28:12.808392Z",
     "iopub.status.idle": "2021-07-27T08:28:14.751740Z",
     "shell.execute_reply": "2021-07-27T08:28:14.751132Z",
     "shell.execute_reply.started": "2021-07-27T08:25:27.980341Z"
    },
    "papermill": {
     "duration": 1.968554,
     "end_time": "2021-07-27T08:28:14.751886",
     "exception": false,
     "start_time": "2021-07-27T08:28:12.783332",
     "status": "completed"
    },
    "tags": []
   },
   "outputs": [],
   "source": [
    "model = models.Sequential()\n",
    "\n",
    "model.add(layers.Conv2D(32, (3, 3), \n",
    "                        activation='relu', \n",
    "                        input_shape=(28, 28, 1), \n",
    "                        padding='same',\n",
    "                        kernel_regularizer=regularizers.l2(0.001)))\n",
    "\n",
    "model.add(layers.MaxPooling2D((2, 2), strides=(2,2)))\n",
    "\n",
    "model.add(layers.Conv2D(32, (3, 3), \n",
    "                        activation='relu', \n",
    "                        padding='same',\n",
    "                        kernel_regularizer=regularizers.l2(0.001)))\n",
    "model.add(layers.MaxPooling2D((2, 2), strides=(2,2)))\n",
    "\n",
    "model.add(layers.Conv2D(32, (3, 3), \n",
    "                        activation='relu', \n",
    "                        padding='same',\n",
    "                        kernel_regularizer=regularizers.l2(0.001)))\n",
    "\n",
    "model.add(layers.Flatten())\n",
    "\n",
    "model.add(layers.Dense(32, activation='relu', kernel_regularizer=regularizers.l2(0.001)))\n",
    "model.add(layers.Dense(10, activation='softmax'))\n",
    "\n",
    "from keras import optimizers\n",
    "\n",
    "model.compile(optimizer='adam', loss='categorical_crossentropy', metrics=['acc'])"
   ]
  },
  {
   "cell_type": "code",
   "execution_count": 9,
   "id": "0d5d69b4",
   "metadata": {
    "execution": {
     "iopub.execute_input": "2021-07-27T08:28:14.789583Z",
     "iopub.status.busy": "2021-07-27T08:28:14.788877Z",
     "iopub.status.idle": "2021-07-27T08:28:47.349615Z",
     "shell.execute_reply": "2021-07-27T08:28:47.350037Z",
     "shell.execute_reply.started": "2021-07-27T08:25:28.649440Z"
    },
    "papermill": {
     "duration": 32.581913,
     "end_time": "2021-07-27T08:28:47.350214",
     "exception": false,
     "start_time": "2021-07-27T08:28:14.768301",
     "status": "completed"
    },
    "tags": []
   },
   "outputs": [
    {
     "name": "stdout",
     "output_type": "stream",
     "text": [
      "Epoch 1/20\n",
      "263/263 [==============================] - 9s 7ms/step - loss: 0.9327 - acc: 0.7319 - val_loss: 0.2607 - val_acc: 0.9533\n",
      "Epoch 2/20\n",
      "263/263 [==============================] - 1s 5ms/step - loss: 0.2203 - acc: 0.9650 - val_loss: 0.1861 - val_acc: 0.9731\n",
      "Epoch 3/20\n",
      "263/263 [==============================] - 1s 5ms/step - loss: 0.1753 - acc: 0.9772 - val_loss: 0.1623 - val_acc: 0.9780\n",
      "Epoch 4/20\n",
      "263/263 [==============================] - 1s 5ms/step - loss: 0.1499 - acc: 0.9815 - val_loss: 0.1459 - val_acc: 0.9793\n",
      "Epoch 5/20\n",
      "263/263 [==============================] - 1s 5ms/step - loss: 0.1324 - acc: 0.9838 - val_loss: 0.1350 - val_acc: 0.9823\n",
      "Epoch 6/20\n",
      "263/263 [==============================] - 1s 5ms/step - loss: 0.1228 - acc: 0.9843 - val_loss: 0.1346 - val_acc: 0.9812\n",
      "Epoch 7/20\n",
      "263/263 [==============================] - 1s 5ms/step - loss: 0.1167 - acc: 0.9852 - val_loss: 0.1266 - val_acc: 0.9818\n",
      "Epoch 8/20\n",
      "263/263 [==============================] - 1s 5ms/step - loss: 0.1060 - acc: 0.9879 - val_loss: 0.1128 - val_acc: 0.9857\n",
      "Epoch 9/20\n",
      "263/263 [==============================] - 1s 5ms/step - loss: 0.1004 - acc: 0.9886 - val_loss: 0.1119 - val_acc: 0.9854\n",
      "Epoch 10/20\n",
      "263/263 [==============================] - 1s 5ms/step - loss: 0.0972 - acc: 0.9894 - val_loss: 0.1084 - val_acc: 0.9843\n",
      "Epoch 11/20\n",
      "263/263 [==============================] - 1s 5ms/step - loss: 0.0937 - acc: 0.9888 - val_loss: 0.1060 - val_acc: 0.9854\n",
      "Epoch 12/20\n",
      "263/263 [==============================] - 1s 5ms/step - loss: 0.0874 - acc: 0.9903 - val_loss: 0.1242 - val_acc: 0.9804\n",
      "Epoch 13/20\n",
      "263/263 [==============================] - 1s 5ms/step - loss: 0.0919 - acc: 0.9888 - val_loss: 0.1051 - val_acc: 0.9861\n",
      "Epoch 14/20\n",
      "263/263 [==============================] - 1s 5ms/step - loss: 0.0854 - acc: 0.9897 - val_loss: 0.1066 - val_acc: 0.9837\n",
      "Epoch 15/20\n",
      "263/263 [==============================] - 1s 5ms/step - loss: 0.0863 - acc: 0.9904 - val_loss: 0.1024 - val_acc: 0.9860\n",
      "Epoch 16/20\n",
      "263/263 [==============================] - 1s 5ms/step - loss: 0.0832 - acc: 0.9910 - val_loss: 0.0974 - val_acc: 0.9881\n",
      "Epoch 17/20\n",
      "263/263 [==============================] - 1s 5ms/step - loss: 0.0800 - acc: 0.9920 - val_loss: 0.1136 - val_acc: 0.9813\n",
      "Epoch 18/20\n",
      "263/263 [==============================] - 1s 5ms/step - loss: 0.0831 - acc: 0.9914 - val_loss: 0.0988 - val_acc: 0.9864\n",
      "Epoch 19/20\n",
      "263/263 [==============================] - 1s 5ms/step - loss: 0.0784 - acc: 0.9919 - val_loss: 0.0972 - val_acc: 0.9863\n",
      "Epoch 20/20\n",
      "263/263 [==============================] - 1s 5ms/step - loss: 0.0818 - acc: 0.9907 - val_loss: 0.0958 - val_acc: 0.9873\n"
     ]
    },
    {
     "data": {
      "text/plain": [
       "<tensorflow.python.keras.callbacks.History at 0x7f6216245210>"
      ]
     },
     "execution_count": 9,
     "metadata": {},
     "output_type": "execute_result"
    }
   ],
   "source": [
    "model.fit(X_train, y_train, \n",
    "                    batch_size=128, \n",
    "                    epochs=20, \n",
    "                    validation_data=(X_val, y_val))"
   ]
  },
  {
   "cell_type": "markdown",
   "id": "5bc90df3",
   "metadata": {
    "papermill": {
     "duration": 0.119149,
     "end_time": "2021-07-27T08:28:47.589020",
     "exception": false,
     "start_time": "2021-07-27T08:28:47.469871",
     "status": "completed"
    },
    "tags": []
   },
   "source": [
    "# Model Evaluation"
   ]
  },
  {
   "cell_type": "code",
   "execution_count": 10,
   "id": "b746c5f2",
   "metadata": {
    "execution": {
     "iopub.execute_input": "2021-07-27T08:28:47.834473Z",
     "iopub.status.busy": "2021-07-27T08:28:47.833830Z",
     "iopub.status.idle": "2021-07-27T08:28:48.052946Z",
     "shell.execute_reply": "2021-07-27T08:28:48.050637Z",
     "shell.execute_reply.started": "2021-07-27T08:25:56.018036Z"
    },
    "papermill": {
     "duration": 0.344427,
     "end_time": "2021-07-27T08:28:48.053153",
     "exception": false,
     "start_time": "2021-07-27T08:28:47.708726",
     "status": "completed"
    },
    "tags": []
   },
   "outputs": [
    {
     "data": {
      "text/plain": [
       "<AxesSubplot:>"
      ]
     },
     "execution_count": 10,
     "metadata": {},
     "output_type": "execute_result"
    },
    {
     "data": {
      "image/png": "[encoded data removed]",
      "text/plain": [
       "<Figure size 432x288 with 1 Axes>"
      ]
     },
     "metadata": {
      "needs_background": "light"
     },
     "output_type": "display_data"
    }
   ],
   "source": [
    "loss=pd.DataFrame(model.history.history)\n",
    "loss[['acc', 'val_acc']].plot()"
   ]
  },
  {
   "cell_type": "code",
   "execution_count": 11,
   "id": "3125327e",
   "metadata": {
    "execution": {
     "iopub.execute_input": "2021-07-27T08:28:48.509277Z",
     "iopub.status.busy": "2021-07-27T08:28:48.508591Z",
     "iopub.status.idle": "2021-07-27T08:28:48.671260Z",
     "shell.execute_reply": "2021-07-27T08:28:48.671714Z",
     "shell.execute_reply.started": "2021-07-27T08:25:56.208246Z"
    },
    "papermill": {
     "duration": 0.377893,
     "end_time": "2021-07-27T08:28:48.671865",
     "exception": false,
     "start_time": "2021-07-27T08:28:48.293972",
     "status": "completed"
    },
    "tags": []
   },
   "outputs": [
    {
     "data": {
      "text/plain": [
       "<AxesSubplot:>"
      ]
     },
     "execution_count": 11,
     "metadata": {},
     "output_type": "execute_result"
    },
    {
     "data": {
      "image/png": "[encoded data removed]",
      "text/plain": [
       "<Figure size 432x288 with 1 Axes>"
      ]
     },
     "metadata": {
      "needs_background": "light"
     },
     "output_type": "display_data"
    }
   ],
   "source": [
    "loss[['loss', 'val_loss']].plot()"
   ]
  },
  {
   "cell_type": "code",
   "execution_count": 12,
   "id": "7222c439",
   "metadata": {
    "execution": {
     "iopub.execute_input": "2021-07-27T08:28:48.920605Z",
     "iopub.status.busy": "2021-07-27T08:28:48.919637Z",
     "iopub.status.idle": "2021-07-27T08:29:15.393599Z",
     "shell.execute_reply": "2021-07-27T08:29:15.393120Z",
     "shell.execute_reply.started": "2021-07-27T08:26:03.434761Z"
    },
    "papermill": {
     "duration": 26.600273,
     "end_time": "2021-07-27T08:29:15.393742",
     "exception": false,
     "start_time": "2021-07-27T08:28:48.793469",
     "status": "completed"
    },
    "tags": []
   },
   "outputs": [
    {
     "name": "stdout",
     "output_type": "stream",
     "text": [
      "Epoch 1/20\n",
      "329/329 [==============================] - 1s 4ms/step - loss: 0.0856 - acc: 0.9895\n",
      "Epoch 2/20\n",
      "329/329 [==============================] - 1s 4ms/step - loss: 0.0859 - acc: 0.9892\n",
      "Epoch 3/20\n",
      "329/329 [==============================] - 1s 4ms/step - loss: 0.0809 - acc: 0.9905\n",
      "Epoch 4/20\n",
      "329/329 [==============================] - 1s 4ms/step - loss: 0.0784 - acc: 0.9912\n",
      "Epoch 5/20\n",
      "329/329 [==============================] - 1s 4ms/step - loss: 0.0797 - acc: 0.9905\n",
      "Epoch 6/20\n",
      "329/329 [==============================] - 1s 4ms/step - loss: 0.0808 - acc: 0.9901\n",
      "Epoch 7/20\n",
      "329/329 [==============================] - 1s 4ms/step - loss: 0.0784 - acc: 0.9910\n",
      "Epoch 8/20\n",
      "329/329 [==============================] - 1s 5ms/step - loss: 0.0775 - acc: 0.9908\n",
      "Epoch 9/20\n",
      "329/329 [==============================] - 1s 4ms/step - loss: 0.0769 - acc: 0.9913\n",
      "Epoch 10/20\n",
      "329/329 [==============================] - 1s 4ms/step - loss: 0.0753 - acc: 0.9918\n",
      "Epoch 11/20\n",
      "329/329 [==============================] - 1s 4ms/step - loss: 0.0745 - acc: 0.9915\n",
      "Epoch 12/20\n",
      "329/329 [==============================] - 1s 4ms/step - loss: 0.0742 - acc: 0.9920\n",
      "Epoch 13/20\n",
      "329/329 [==============================] - 1s 4ms/step - loss: 0.0721 - acc: 0.9918\n",
      "Epoch 14/20\n",
      "329/329 [==============================] - 1s 4ms/step - loss: 0.0745 - acc: 0.9907\n",
      "Epoch 15/20\n",
      "329/329 [==============================] - 1s 4ms/step - loss: 0.0724 - acc: 0.9919\n",
      "Epoch 16/20\n",
      "329/329 [==============================] - 1s 4ms/step - loss: 0.0717 - acc: 0.9919\n",
      "Epoch 17/20\n",
      "329/329 [==============================] - 1s 4ms/step - loss: 0.0708 - acc: 0.9920\n",
      "Epoch 18/20\n",
      "329/329 [==============================] - 1s 4ms/step - loss: 0.0699 - acc: 0.9919\n",
      "Epoch 19/20\n",
      "329/329 [==============================] - 1s 4ms/step - loss: 0.0680 - acc: 0.9930\n",
      "Epoch 20/20\n",
      "329/329 [==============================] - 1s 4ms/step - loss: 0.0683 - acc: 0.9925\n"
     ]
    },
    {
     "data": {
      "text/plain": [
       "<tensorflow.python.keras.callbacks.History at 0x7f6213e7c110>"
      ]
     },
     "execution_count": 12,
     "metadata": {},
     "output_type": "execute_result"
    }
   ],
   "source": [
    "model.fit(train1, train_labels, \n",
    "                    batch_size=128, \n",
    "                    epochs=20)"
   ]
  },
  {
   "cell_type": "markdown",
   "id": "8d04ff38",
   "metadata": {
    "papermill": {
     "duration": 0.272732,
     "end_time": "2021-07-27T08:29:15.957021",
     "exception": false,
     "start_time": "2021-07-27T08:29:15.684289",
     "status": "completed"
    },
    "tags": []
   },
   "source": [
    "# Prediction"
   ]
  },
  {
   "cell_type": "code",
   "execution_count": 13,
   "id": "bfd4feb0",
   "metadata": {
    "execution": {
     "iopub.execute_input": "2021-07-27T08:29:16.518082Z",
     "iopub.status.busy": "2021-07-27T08:29:16.516989Z",
     "iopub.status.idle": "2021-07-27T08:29:17.846868Z",
     "shell.execute_reply": "2021-07-27T08:29:17.846350Z",
     "shell.execute_reply.started": "2021-07-27T08:27:00.364206Z"
    },
    "papermill": {
     "duration": 1.610052,
     "end_time": "2021-07-27T08:29:17.847014",
     "exception": false,
     "start_time": "2021-07-27T08:29:16.236962",
     "status": "completed"
    },
    "tags": []
   },
   "outputs": [],
   "source": [
    "predictions = model.predict(test, batch_size=32)\n",
    "image_id = range(1, predictions.shape[0] + 1)\n",
    "pred = [np.argmax(i) for i in predictions]\n",
    "submission = pd.DataFrame({'ImageId': image_id, 'Label': pred})\n",
    "submission.to_csv('digit_recognizer_submission', index=False)"
   ]
  },
  {
   "cell_type": "code",
   "execution_count": 14,
   "id": "e0c48be5",
   "metadata": {
    "execution": {
     "iopub.execute_input": "2021-07-27T08:29:18.409826Z",
     "iopub.status.busy": "2021-07-27T08:29:18.409155Z",
     "iopub.status.idle": "2021-07-27T08:29:18.413933Z",
     "shell.execute_reply": "2021-07-27T08:29:18.414382Z",
     "shell.execute_reply.started": "2021-07-27T08:27:08.628972Z"
    },
    "papermill": {
     "duration": 0.288012,
     "end_time": "2021-07-27T08:29:18.414526",
     "exception": false,
     "start_time": "2021-07-27T08:29:18.126514",
     "status": "completed"
    },
    "tags": []
   },
   "outputs": [
    {
     "data": {
      "text/html": [
       "<div>\n",
       "<style scoped>\n",
       "    .dataframe tbody tr th:only-of-type {\n",
       "        vertical-align: middle;\n",
       "    }\n",
       "\n",
       "    .dataframe tbody tr th {\n",
       "        vertical-align: top;\n",
       "    }\n",
       "\n",
       "    .dataframe thead th {\n",
       "        text-align: right;\n",
       "    }\n",
       "</style>\n",
       "<table border=\"1\" class=\"dataframe\">\n",
       "  <thead>\n",
       "    <tr style=\"text-align: right;\">\n",
       "      <th></th>\n",
       "      <th>ImageId</th>\n",
       "      <th>Label</th>\n",
       "    </tr>\n",
       "  </thead>\n",
       "  <tbody>\n",
       "    <tr>\n",
       "      <th>0</th>\n",
       "      <td>1</td>\n",
       "      <td>2</td>\n",
       "    </tr>\n",
       "    <tr>\n",
       "      <th>1</th>\n",
       "      <td>2</td>\n",
       "      <td>0</td>\n",
       "    </tr>\n",
       "    <tr>\n",
       "      <th>2</th>\n",
       "      <td>3</td>\n",
       "      <td>9</td>\n",
       "    </tr>\n",
       "    <tr>\n",
       "      <th>3</th>\n",
       "      <td>4</td>\n",
       "      <td>9</td>\n",
       "    </tr>\n",
       "    <tr>\n",
       "      <th>4</th>\n",
       "      <td>5</td>\n",
       "      <td>3</td>\n",
       "    </tr>\n",
       "  </tbody>\n",
       "</table>\n",
       "</div>"
      ],
      "text/plain": [
       "   ImageId  Label\n",
       "0        1      2\n",
       "1        2      0\n",
       "2        3      9\n",
       "3        4      9\n",
       "4        5      3"
      ]
     },
     "execution_count": 14,
     "metadata": {},
     "output_type": "execute_result"
    }
   ],
   "source": [
    "submission.head()"
   ]
  },
  {
   "cell_type": "code",
   "execution_count": 15,
   "id": "be013ed3",
   "metadata": {
    "execution": {
     "iopub.execute_input": "2021-07-27T08:29:18.975817Z",
     "iopub.status.busy": "2021-07-27T08:29:18.975132Z",
     "iopub.status.idle": "2021-07-27T08:29:18.999084Z",
     "shell.execute_reply": "2021-07-27T08:29:18.998671Z",
     "shell.execute_reply.started": "2021-07-27T08:27:13.228657Z"
    },
    "papermill": {
     "duration": 0.306962,
     "end_time": "2021-07-27T08:29:18.999204",
     "exception": false,
     "start_time": "2021-07-27T08:29:18.692242",
     "status": "completed"
    },
    "tags": []
   },
   "outputs": [
    {
     "data": {
      "text/html": [
       "<div>\n",
       "<style scoped>\n",
       "    .dataframe tbody tr th:only-of-type {\n",
       "        vertical-align: middle;\n",
       "    }\n",
       "\n",
       "    .dataframe tbody tr th {\n",
       "        vertical-align: top;\n",
       "    }\n",
       "\n",
       "    .dataframe thead th {\n",
       "        text-align: right;\n",
       "    }\n",
       "</style>\n",
       "<table border=\"1\" class=\"dataframe\">\n",
       "  <thead>\n",
       "    <tr style=\"text-align: right;\">\n",
       "      <th></th>\n",
       "      <th>ImageId</th>\n",
       "      <th>Label</th>\n",
       "    </tr>\n",
       "  </thead>\n",
       "  <tbody>\n",
       "    <tr>\n",
       "      <th>0</th>\n",
       "      <td>1</td>\n",
       "      <td>0</td>\n",
       "    </tr>\n",
       "    <tr>\n",
       "      <th>1</th>\n",
       "      <td>2</td>\n",
       "      <td>0</td>\n",
       "    </tr>\n",
       "    <tr>\n",
       "      <th>2</th>\n",
       "      <td>3</td>\n",
       "      <td>0</td>\n",
       "    </tr>\n",
       "    <tr>\n",
       "      <th>3</th>\n",
       "      <td>4</td>\n",
       "      <td>0</td>\n",
       "    </tr>\n",
       "    <tr>\n",
       "      <th>4</th>\n",
       "      <td>5</td>\n",
       "      <td>0</td>\n",
       "    </tr>\n",
       "    <tr>\n",
       "      <th>...</th>\n",
       "      <td>...</td>\n",
       "      <td>...</td>\n",
       "    </tr>\n",
       "    <tr>\n",
       "      <th>27995</th>\n",
       "      <td>27996</td>\n",
       "      <td>0</td>\n",
       "    </tr>\n",
       "    <tr>\n",
       "      <th>27996</th>\n",
       "      <td>27997</td>\n",
       "      <td>0</td>\n",
       "    </tr>\n",
       "    <tr>\n",
       "      <th>27997</th>\n",
       "      <td>27998</td>\n",
       "      <td>0</td>\n",
       "    </tr>\n",
       "    <tr>\n",
       "      <th>27998</th>\n",
       "      <td>27999</td>\n",
       "      <td>0</td>\n",
       "    </tr>\n",
       "    <tr>\n",
       "      <th>27999</th>\n",
       "      <td>28000</td>\n",
       "      <td>0</td>\n",
       "    </tr>\n",
       "  </tbody>\n",
       "</table>\n",
       "<p>28000 rows × 2 columns</p>\n",
       "</div>"
      ],
      "text/plain": [
       "       ImageId  Label\n",
       "0            1      0\n",
       "1            2      0\n",
       "2            3      0\n",
       "3            4      0\n",
       "4            5      0\n",
       "...        ...    ...\n",
       "27995    27996      0\n",
       "27996    27997      0\n",
       "27997    27998      0\n",
       "27998    27999      0\n",
       "27999    28000      0\n",
       "\n",
       "[28000 rows x 2 columns]"
      ]
     },
     "execution_count": 15,
     "metadata": {},
     "output_type": "execute_result"
    }
   ],
   "source": [
    "ss=pd.read_csv('../input/digit-recognizer/sample_submission.csv')\n",
    "ss"
   ]
  }
 ],
 "metadata": {
  "kernelspec": {
   "display_name": "Python 3",
   "language": "python",
   "name": "python3"
  },
  "language_info": {
   "codemirror_mode": {
    "name": "ipython",
    "version": 3
   },
   "file_extension": ".py",
   "mimetype": "text/x-python",
   "name": "python",
   "nbconvert_exporter": "python",
   "pygments_lexer": "ipython3",
   "version": "3.7.10"
  },
  "papermill": {
   "default_parameters": {},
   "duration": 87.683377,
   "end_time": "2021-07-27T08:29:22.258255",
   "environment_variables": {},
   "exception": null,
   "input_path": "__notebook__.ipynb",
   "output_path": "__notebook__.ipynb",
   "parameters": {},
   "start_time": "2021-07-27T08:27:54.574878",
   "version": "2.3.3"
  }
 },
 "nbformat": 4,
 "nbformat_minor": 5
}
